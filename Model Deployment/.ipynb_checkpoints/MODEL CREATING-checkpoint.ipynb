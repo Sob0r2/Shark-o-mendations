{
 "cells": [
  {
   "cell_type": "code",
   "execution_count": 1,
   "id": "3a79b695",
   "metadata": {},
   "outputs": [],
   "source": [
    "# Importing the libraries\n",
    "import numpy as np\n",
    "import pandas as pd\n",
    "import torch\n",
    "import torch.nn as nn\n",
    "import torch.nn.parallel\n",
    "import torch.optim as optim\n",
    "import torch.utils.data\n",
    "import torch.nn.functional as F\n",
    "from torch.autograd import Variable\n",
    "from torch.utils.data import DataLoader,Subset\n"
   ]
  },
  {
   "cell_type": "code",
   "execution_count": 2,
   "id": "533efad8",
   "metadata": {},
   "outputs": [
    {
     "data": {
      "text/plain": [
       "True"
      ]
     },
     "execution_count": 2,
     "metadata": {},
     "output_type": "execute_result"
    }
   ],
   "source": [
    "torch.cuda.is_available()"
   ]
  },
  {
   "cell_type": "code",
   "execution_count": 28,
   "id": "8c91e0e0",
   "metadata": {},
   "outputs": [],
   "source": [
    "device = torch.device(\"cuda\")"
   ]
  },
  {
   "cell_type": "code",
   "execution_count": 29,
   "id": "b4cd3eb3",
   "metadata": {},
   "outputs": [
    {
     "data": {
      "text/plain": [
       "device(type='cuda')"
      ]
     },
     "execution_count": 29,
     "metadata": {},
     "output_type": "execute_result"
    }
   ],
   "source": [
    "device"
   ]
  },
  {
   "cell_type": "code",
   "execution_count": 5,
   "id": "384b0f00",
   "metadata": {},
   "outputs": [
    {
     "data": {
      "text/plain": [
       "'NVIDIA GeForce RTX 3060 Laptop GPU'"
      ]
     },
     "execution_count": 5,
     "metadata": {},
     "output_type": "execute_result"
    }
   ],
   "source": [
    "torch.cuda.get_device_name(0)"
   ]
  },
  {
   "cell_type": "code",
   "execution_count": 8,
   "id": "1adee428",
   "metadata": {},
   "outputs": [],
   "source": [
    "ratings = pd.read_csv(\"../DATA/final_ratings.csv\")\n",
    "movies = pd.read_csv(\"../DATA/final_movies_data.csv\")"
   ]
  },
  {
   "cell_type": "code",
   "execution_count": 9,
   "id": "2333a069",
   "metadata": {},
   "outputs": [],
   "source": [
    "pivot_rating = pd.pivot_table(ratings,values='rating',index='userID',columns='movieID',fill_value=0)"
   ]
  },
  {
   "cell_type": "code",
   "execution_count": 10,
   "id": "bec6bf86",
   "metadata": {},
   "outputs": [],
   "source": [
    "pivot_rating_np = np.array(pivot_rating)"
   ]
  },
  {
   "cell_type": "code",
   "execution_count": 11,
   "id": "de0a4e22",
   "metadata": {},
   "outputs": [],
   "source": [
    "over_30_ratings = []\n",
    "for line in pivot_rating_np:\n",
    "    rated = np.where(np.array(line) > 0)[0]\n",
    "    if len(rated) >= 30:\n",
    "        over_30_ratings.append(line)"
   ]
  },
  {
   "cell_type": "code",
   "execution_count": 12,
   "id": "540f26b8",
   "metadata": {},
   "outputs": [],
   "source": [
    "over_30_ratings = np.array(over_30_ratings)"
   ]
  },
  {
   "cell_type": "code",
   "execution_count": 13,
   "id": "4f2d8ffc",
   "metadata": {},
   "outputs": [
    {
     "data": {
      "text/plain": [
       "(100165, 995)"
      ]
     },
     "execution_count": 13,
     "metadata": {},
     "output_type": "execute_result"
    }
   ],
   "source": [
    "over_30_ratings.shape"
   ]
  },
  {
   "cell_type": "code",
   "execution_count": 16,
   "id": "68bf38bb",
   "metadata": {},
   "outputs": [
    {
     "name": "stdout",
     "output_type": "stream",
     "text": [
      "0\n",
      "3000\n",
      "6000\n",
      "9000\n",
      "12000\n",
      "15000\n",
      "18000\n",
      "21000\n",
      "24000\n",
      "27000\n",
      "30000\n",
      "33000\n",
      "36000\n",
      "39000\n",
      "42000\n",
      "45000\n",
      "48000\n",
      "51000\n",
      "54000\n",
      "57000\n",
      "60000\n",
      "63000\n",
      "66000\n",
      "69000\n",
      "72000\n",
      "75000\n",
      "78000\n",
      "81000\n",
      "84000\n",
      "87000\n",
      "90000\n",
      "93000\n",
      "96000\n",
      "99000\n"
     ]
    }
   ],
   "source": [
    "import numpy as np\n",
    "\n",
    "test_set = np.zeros_like(over_30_ratings)\n",
    "training_set = np.zeros_like(over_30_ratings)\n",
    "\n",
    "for i, line in enumerate(over_30_ratings):\n",
    "    rated = np.where(line > 0)[0]\n",
    "    idxs = int(np.ceil(len(rated) / 10)) \n",
    "    test_index = np.random.choice(rated, idxs, replace=False)\n",
    "\n",
    "    test_set[i, test_index] = over_30_ratings[i, test_index]\n",
    "    training_set[i] = np.where(test_set[i] == 0, over_30_ratings[i], 0)\n",
    "\n",
    "    if i % 3000 == 0:\n",
    "        print(i)"
   ]
  },
  {
   "cell_type": "code",
   "execution_count": 17,
   "id": "4241305e",
   "metadata": {},
   "outputs": [],
   "source": [
    "training_set = torch.Tensor(training_set)\n",
    "test_set = torch.Tensor(test_set)"
   ]
  },
  {
   "cell_type": "code",
   "execution_count": 19,
   "id": "8399e3af",
   "metadata": {},
   "outputs": [
    {
     "data": {
      "text/plain": [
       "RBM()"
      ]
     },
     "execution_count": 19,
     "metadata": {},
     "output_type": "execute_result"
    }
   ],
   "source": [
    "class RBM(nn.Module):\n",
    "  def __init__(self, nv, nh):\n",
    "    super().__init__()\n",
    "    self.W = torch.randn(nh, nv)\n",
    "    self.a = torch.randn(1, nh)\n",
    "    self.b = torch.randn(1, nv)\n",
    "    self.W = self.W.to(device)\n",
    "    self.a = self.a.to(device)\n",
    "    self.b = self.b.to(device)\n",
    "  def sample_h(self, x):\n",
    "    wx = torch.mm(x, self.W.t())\n",
    "    activation = wx + self.a.expand_as(wx)\n",
    "    p_h_given_v = torch.sigmoid(activation)\n",
    "    return p_h_given_v\n",
    "  def sample_v(self, y):\n",
    "    wy = torch.mm(y, self.W)\n",
    "    activation = wy + self.b.expand_as(wy)\n",
    "    p_v_given_h = torch.sigmoid(activation)\n",
    "    return p_v_given_h\n",
    "  def train(self, v0, vk, ph0, phk):\n",
    "    self.W += (torch.mm(v0.t(), ph0) - torch.mm(vk.t(), phk)).t()\n",
    "    self.b += torch.sum((v0 - vk), 0)\n",
    "    self.a += torch.sum((ph0 - phk), 0)\n",
    "    \n",
    "nv = len(training_set[0])\n",
    "nh = 800\n",
    "batch_size = 10000\n",
    "rbm = RBM(nv, nh)\n",
    "rbm.to(device)"
   ]
  },
  {
   "cell_type": "code",
   "execution_count": 20,
   "id": "a6ad6d32",
   "metadata": {},
   "outputs": [],
   "source": [
    "nb_users = training_set.shape[0]\n",
    "nb_movies = training_set.shape[1]"
   ]
  },
  {
   "cell_type": "code",
   "execution_count": 48,
   "id": "caaa2704",
   "metadata": {},
   "outputs": [
    {
     "name": "stdout",
     "output_type": "stream",
     "text": [
      "epoch: 100 loss: tensor(1.3686)\n",
      "epoch: 200 loss: tensor(1.2093)\n",
      "epoch: 300 loss: tensor(0.9213)\n",
      "epoch: 400 loss: tensor(0.8936)\n",
      "epoch: 500 loss: tensor(1.0842)\n",
      "epoch: 600 loss: tensor(1.0077)\n",
      "epoch: 700 loss: tensor(0.9509)\n",
      "epoch: 800 loss: tensor(0.8083)\n",
      "epoch: 900 loss: tensor(0.9609)\n",
      "epoch: 1000 loss: tensor(0.9909)\n",
      "epoch: 1100 loss: tensor(0.8510)\n",
      "epoch: 1200 loss: tensor(0.9971)\n",
      "epoch: 1300 loss: tensor(0.9231)\n",
      "epoch: 1400 loss: tensor(0.8287)\n",
      "epoch: 1500 loss: tensor(0.9449)\n",
      "epoch: 1600 loss: tensor(0.9329)\n",
      "epoch: 1700 loss: tensor(0.8988)\n",
      "epoch: 1800 loss: tensor(0.9572)\n",
      "epoch: 1900 loss: tensor(0.9122)\n",
      "epoch: 2000 loss: tensor(0.8940)\n",
      "epoch: 2100 loss: tensor(1.0661)\n",
      "epoch: 2200 loss: tensor(0.8812)\n",
      "epoch: 2300 loss: tensor(0.8644)\n",
      "epoch: 2400 loss: tensor(0.9673)\n",
      "epoch: 2500 loss: tensor(1.0295)\n",
      "epoch: 2600 loss: tensor(1.1249)\n",
      "epoch: 2700 loss: tensor(0.9370)\n",
      "epoch: 2800 loss: tensor(1.0214)\n",
      "epoch: 2900 loss: tensor(0.9194)\n",
      "epoch: 3000 loss: tensor(0.9943)\n",
      "epoch: 3100 loss: tensor(0.8656)\n",
      "epoch: 3200 loss: tensor(0.9739)\n",
      "epoch: 3300 loss: tensor(1.0308)\n",
      "epoch: 3400 loss: tensor(1.0463)\n",
      "epoch: 3500 loss: tensor(0.8023)\n",
      "epoch: 3600 loss: tensor(0.8851)\n",
      "epoch: 3700 loss: tensor(0.9412)\n",
      "epoch: 3800 loss: tensor(0.9291)\n",
      "epoch: 3900 loss: tensor(0.7412)\n",
      "epoch: 4000 loss: tensor(0.9371)\n",
      "epoch: 4100 loss: tensor(0.8549)\n",
      "epoch: 4200 loss: tensor(0.8983)\n",
      "epoch: 4300 loss: tensor(0.8690)\n",
      "epoch: 4400 loss: tensor(0.8156)\n",
      "epoch: 4500 loss: tensor(0.7726)\n",
      "epoch: 4600 loss: tensor(0.8746)\n",
      "epoch: 4700 loss: tensor(0.7984)\n",
      "epoch: 4800 loss: tensor(0.8741)\n",
      "epoch: 4900 loss: tensor(0.9131)\n",
      "epoch: 5000 loss: tensor(0.9107)\n",
      "epoch: 5100 loss: tensor(0.9784)\n",
      "epoch: 5200 loss: tensor(0.9775)\n",
      "epoch: 5300 loss: tensor(0.9489)\n",
      "epoch: 5400 loss: tensor(0.8930)\n",
      "epoch: 5500 loss: tensor(0.8455)\n",
      "epoch: 5600 loss: tensor(0.8927)\n",
      "epoch: 5700 loss: tensor(0.9241)\n",
      "epoch: 5800 loss: tensor(0.8534)\n",
      "epoch: 5900 loss: tensor(0.9500)\n",
      "epoch: 6000 loss: tensor(0.8532)\n",
      "epoch: 6100 loss: tensor(0.9575)\n",
      "epoch: 6200 loss: tensor(1.1357)\n",
      "epoch: 6300 loss: tensor(0.8867)\n",
      "epoch: 6400 loss: tensor(0.9365)\n",
      "epoch: 6500 loss: tensor(0.9488)\n",
      "epoch: 6600 loss: tensor(0.8079)\n",
      "epoch: 6700 loss: tensor(0.8171)\n",
      "epoch: 6800 loss: tensor(0.9100)\n",
      "epoch: 6900 loss: tensor(0.8603)\n",
      "epoch: 7000 loss: tensor(0.8448)\n",
      "epoch: 7100 loss: tensor(0.8525)\n",
      "epoch: 7200 loss: tensor(0.8601)\n",
      "epoch: 7300 loss: tensor(0.9527)\n",
      "epoch: 7400 loss: tensor(0.9103)\n",
      "epoch: 7500 loss: tensor(1.0057)\n",
      "epoch: 7600 loss: tensor(0.9341)\n",
      "epoch: 7700 loss: tensor(0.9008)\n",
      "epoch: 7800 loss: tensor(0.8094)\n",
      "epoch: 7900 loss: tensor(0.8896)\n",
      "epoch: 8000 loss: tensor(0.8755)\n",
      "epoch: 8100 loss: tensor(0.8548)\n",
      "epoch: 8200 loss: tensor(0.9364)\n",
      "epoch: 8300 loss: tensor(0.8168)\n",
      "epoch: 8400 loss: tensor(0.8895)\n",
      "epoch: 8500 loss: tensor(0.8769)\n",
      "epoch: 8600 loss: tensor(0.9358)\n",
      "epoch: 8700 loss: tensor(1.0710)\n",
      "epoch: 8800 loss: tensor(0.8871)\n",
      "epoch: 8900 loss: tensor(0.8836)\n",
      "epoch: 9000 loss: tensor(0.8853)\n",
      "epoch: 9100 loss: tensor(0.8076)\n",
      "epoch: 9200 loss: tensor(0.8979)\n",
      "epoch: 9300 loss: tensor(0.9139)\n",
      "epoch: 9400 loss: tensor(0.8254)\n",
      "epoch: 9500 loss: tensor(0.8574)\n",
      "epoch: 9600 loss: tensor(0.8488)\n",
      "epoch: 9700 loss: tensor(0.8328)\n",
      "epoch: 9800 loss: tensor(0.9336)\n",
      "epoch: 9900 loss: tensor(0.8093)\n",
      "epoch: 10000 loss: tensor(0.8262)\n"
     ]
    }
   ],
   "source": [
    "class SAE(nn.Module):\n",
    "    def __init__(self, ):\n",
    "        super(SAE, self).__init__()\n",
    "        self.fc1 = nn.Linear(nb_movies, 50)\n",
    "        self.fc2 = nn.Linear(50, 30)\n",
    "        self.fc3 = nn.Linear(30, 50)\n",
    "        self.fc4 = nn.Linear(50, nb_movies)\n",
    "        self.activation = nn.ReLU()\n",
    "    def forward(self, x):\n",
    "        x = self.activation(self.fc1(x))\n",
    "        x = self.activation(self.fc2(x))\n",
    "        x = self.activation(self.fc3(x))\n",
    "        x = F.sigmoid(self.fc4(x)) * 5\n",
    "        return x\n",
    "sae = SAE()\n",
    "sae.to(device)\n",
    "criterion = nn.MSELoss()\n",
    "optimizer = optim.RMSprop(sae.parameters(), lr = 0.01, weight_decay = 0.5)\n",
    "\n",
    "# Training the SAE\n",
    "batch_size = 32\n",
    "nb_epoch = 10000\n",
    "for epoch in range(1, nb_epoch + 1):\n",
    "    train_loss = 0\n",
    "    s = 0.\n",
    "    batch = np.random.choice(len(training_set),batch_size,replace=False)\n",
    "    input = training_set[batch]\n",
    "    target = input.clone()\n",
    "    input = input.to(device)\n",
    "    target = target.to(device)\n",
    "    output = sae(input)\n",
    "    target.require_grad = False\n",
    "    output[target == 0] = 0\n",
    "    loss = criterion(output, target)\n",
    "    denominator = torch.zeros(batch_size)\n",
    "    for i,row in enumerate(target):\n",
    "        denominator[i] = float(torch.sum(row > 0) + 1e-10) \n",
    "    denominator = torch.mean(denominator)\n",
    "    mean_corrector = nb_movies/denominator\n",
    "    loss.backward()\n",
    "    train_loss += np.sqrt(loss.data.detach().cpu()*mean_corrector)\n",
    "    s += 1.\n",
    "    optimizer.step()\n",
    "    if epoch % 100 == 0:\n",
    "        print('epoch: '+str(epoch)+' loss: '+str(train_loss/s))"
   ]
  },
  {
   "cell_type": "code",
   "execution_count": 49,
   "id": "2d832289",
   "metadata": {},
   "outputs": [
    {
     "name": "stdout",
     "output_type": "stream",
     "text": [
      "test loss: tensor(0.8757)\n"
     ]
    }
   ],
   "source": [
    "# Testing the SAE\n",
    "test_loss = 0\n",
    "s = 0.\n",
    "for id_user in range(nb_users):\n",
    "    input = Variable(training_set[id_user]).unsqueeze(0)\n",
    "    target = Variable(test_set[id_user]).unsqueeze(0)\n",
    "    if torch.sum(target.data > 0) > 0:\n",
    "        input = input.to(device)\n",
    "        target = target.to(device)\n",
    "        sae = sae.to(device)\n",
    "        output = sae(input)\n",
    "        x = output\n",
    "        target.require_grad = False\n",
    "        output[target == 0] = 0\n",
    "        loss = criterion(output, target)\n",
    "        mean_corrector = nb_movies/float(torch.sum(target.data > 0) + 1e-10)\n",
    "        test_loss += np.sqrt(loss.data.detach().cpu()*mean_corrector)\n",
    "        s += 1.\n",
    "print('test loss: '+str(test_loss/s))"
   ]
  },
  {
   "cell_type": "code",
   "execution_count": 50,
   "id": "a0bc914a",
   "metadata": {},
   "outputs": [],
   "source": [
    "torch.save(sae, \"model\")"
   ]
  },
  {
   "cell_type": "code",
   "execution_count": null,
   "id": "665ed7b3",
   "metadata": {},
   "outputs": [],
   "source": [
    "sae"
   ]
  }
 ],
 "metadata": {
  "kernelspec": {
   "display_name": "Python 3 (ipykernel)",
   "language": "python",
   "name": "python3"
  },
  "language_info": {
   "codemirror_mode": {
    "name": "ipython",
    "version": 3
   },
   "file_extension": ".py",
   "mimetype": "text/x-python",
   "name": "python",
   "nbconvert_exporter": "python",
   "pygments_lexer": "ipython3",
   "version": "3.10.9"
  }
 },
 "nbformat": 4,
 "nbformat_minor": 5
}
